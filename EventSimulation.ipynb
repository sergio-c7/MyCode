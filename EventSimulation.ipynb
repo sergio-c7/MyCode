{
  "nbformat": 4,
  "nbformat_minor": 0,
  "metadata": {
    "colab": {
      "name": "Simulacion.ipynb",
      "provenance": [],
      "collapsed_sections": []
    },
    "kernelspec": {
      "name": "python3",
      "display_name": "Python 3"
    }
  },
  "cells": [
    {
      "cell_type": "markdown",
      "metadata": {
        "id": "-GL_FeiZ8k3g",
        "colab_type": "text"
      },
      "source": [
        "## Formulación del Problema\n",
        "Salon de belleza \"Los espejos\" cuenta con dos estilistas que se demoran habitualmente entre 20 a 35 minutos por corte. \n",
        "\n",
        "Los clientes son atendidos de acuerdo al orden de llegada.\n",
        "\n",
        "La peluquería recibe en promedio 3 clientes por hora (es decir, uno cada 20 minutos). \n",
        "\n",
        "Se desea simular las llegadas y servicios de 30 clientes, que es lo que se atiende aproximadamente en una jornada regular de trabajo. \n",
        "\n"
      ]
    },
    {
      "cell_type": "code",
      "metadata": {
        "id": "uRvMdPZq5yfO",
        "colab_type": "code",
        "colab": {
          "base_uri": "https://localhost:8080/",
          "height": 111
        },
        "outputId": "ea171c93-d865-4cb0-9b5f-70fd75a5e1bf"
      },
      "source": [
        "!pip install simpy"
      ],
      "execution_count": 2,
      "outputs": [
        {
          "output_type": "stream",
          "text": [
            "Collecting simpy\n",
            "  Downloading https://files.pythonhosted.org/packages/5a/64/8f0fc71400d41b6c2c6443d333a1cade458d23d4945ccda700c810ff6aae/simpy-3.0.11-py2.py3-none-any.whl\n",
            "Installing collected packages: simpy\n",
            "Successfully installed simpy-3.0.11\n"
          ],
          "name": "stdout"
        }
      ]
    },
    {
      "cell_type": "code",
      "metadata": {
        "id": "Myl-DQFD6ENy",
        "colab_type": "code",
        "colab": {}
      },
      "source": [
        "#importando librerias\n",
        "import random\n",
        "import math\n",
        "import simpy"
      ],
      "execution_count": 0,
      "outputs": []
    },
    {
      "cell_type": "code",
      "metadata": {
        "id": "WxStWLZ86Fy5",
        "colab_type": "code",
        "colab": {}
      },
      "source": [
        "#declaracion de variables\n",
        "SEMILLA = 30\n",
        "NUM_PELUQUEROS = 2\n",
        "TIEMPO_CORTE_MIN = 20\n",
        "TIEMPO_CORTE_MAX = 35\n",
        "T_LLEGADAS = 20\n",
        "TIEMPO_SIMULACION = 120\n",
        "TOT_CLIENTES = 30\n",
        " \n",
        "te  = 0.0 # tiempo de espera total\n",
        "dt  = 0.0 # duracion de servicio total\n",
        "fin = 0.0 # minuto en el que finaliza"
      ],
      "execution_count": 0,
      "outputs": []
    },
    {
      "cell_type": "code",
      "metadata": {
        "id": "QegQgP3T6oI3",
        "colab_type": "code",
        "colab": {}
      },
      "source": [
        "#Definicion de Procedimientos\n",
        "def cortar(cliente):\n",
        "\tglobal dt  #Para poder acceder a la variable dt declarada anteriormente\n",
        "\tR = random.random()  # Obtiene un numero aleatorio y lo guarda en R\n",
        "\ttiempo = TIEMPO_CORTE_MAX - TIEMPO_CORTE_MIN  \n",
        "\ttiempo_corte = TIEMPO_CORTE_MIN + (tiempo*R) # Distribucion uniforme\n",
        "\tyield env.timeout(tiempo_corte) # deja correr el tiempo n minutos\n",
        "\tprint(\" \\o/ Corte listo a %s en %.2f minutos\" % (cliente,tiempo_corte))\n",
        "\tdt = dt + tiempo_corte # Acumula los tiempos de uso de la i\n",
        "  \n",
        "def cliente (env, name, personal ):\n",
        "\tglobal te\n",
        "\tglobal fin\n",
        "\tllega = env.now # Guarda el minuto de llegada del cliente\n",
        "\tprint (\"---> %s llego a peluqueria en minuto %.2f\" % (name, llega))\n",
        "\twith personal.request() as request: # Espera su turno\n",
        "\t\tyield request # Obtiene turno\n",
        "\t\tpasa = env.now # Guarda el minuto cuado comienza a ser atendido\n",
        "\t\tespera = pasa - llega # Calcula el tiempo que espero\n",
        "\t\tte = te + espera # Acumula los tiempos de espera\n",
        "\t\tprint (\"**** %s pasa con peluquero en minuto %.2f habiendo esperado %.2f\" % (name, pasa, espera))\n",
        "\t\tyield env.process(cortar(name)) # Invoca al proceso cortar\n",
        "\t\tdeja = env.now #Guarda el minuto en que termina el proceso cortar \n",
        "\t\tprint (\"<--- %s deja peluqueria en minuto %.2f\" % (name, deja))\n",
        "\t\tfin = deja # Conserva globalmente el ultimo minuto de la simulacion\n",
        "\t \n",
        "def principal (env, personal):\n",
        "\tllegada = 0\n",
        "\ti = 0\n",
        "\tfor i in range(TOT_CLIENTES): # Para n clientes\n",
        "\t\tR = random.random()\n",
        "\t\tllegada = -T_LLEGADAS * math.log(R) # Distribucion exponencial\n",
        "\t\tyield env.timeout(llegada)  # Deja transcurrir un tiempo entre uno y otro\n",
        "\t\ti += 1\n",
        "\t\tenv.process(cliente(env, 'Cliente %d' % i, personal)) "
      ],
      "execution_count": 0,
      "outputs": []
    },
    {
      "cell_type": "code",
      "metadata": {
        "id": "kZerhuak6xuG",
        "colab_type": "code",
        "colab": {
          "base_uri": "https://localhost:8080/",
          "height": 1000
        },
        "outputId": "1839880d-a528-4ba1-b724-9de7fa09aabb"
      },
      "source": [
        "#ejecucion de la simulacion\n",
        "print (\"------------------- Iniciando Simulacion ------------------\")\n",
        "random.seed (SEMILLA)  # Valor semilla random\n",
        "env = simpy.Environment() # Crea el objeto entorno de simulacion\n",
        "personal = simpy.Resource(env, NUM_PELUQUEROS) #Crea los recursos (peluqueros)\n",
        "env.process(principal(env, personal)) #Invoca el proceso princial\n",
        "env.run() #Inicia la simulacion"
      ],
      "execution_count": 14,
      "outputs": [
        {
          "output_type": "stream",
          "text": [
            "------------------- Bienvenido Simulacion Peluqueria ------------------\n",
            "---> Cliente 1 llego a peluqueria en minuto 12.36\n",
            "**** Cliente 1 pasa con peluquero en minuto 12.36 habiendo esperado 0.00\n",
            " \\o/ Corte listo a Cliente 1 en 20.30 minutos\n",
            "<--- Cliente 1 deja peluqueria en minuto 32.66\n",
            "---> Cliente 2 llego a peluqueria en minuto 37.17\n",
            "**** Cliente 2 pasa con peluquero en minuto 37.17 habiendo esperado 0.00\n",
            "---> Cliente 3 llego a peluqueria en minuto 45.67\n",
            "**** Cliente 3 pasa con peluquero en minuto 45.67 habiendo esperado 0.00\n",
            " \\o/ Corte listo a Cliente 2 en 22.10 minutos\n",
            "<--- Cliente 2 deja peluqueria en minuto 59.27\n",
            " \\o/ Corte listo a Cliente 3 en 23.97 minutos\n",
            "<--- Cliente 3 deja peluqueria en minuto 69.65\n",
            "---> Cliente 4 llego a peluqueria en minuto 72.83\n",
            "**** Cliente 4 pasa con peluquero en minuto 72.83 habiendo esperado 0.00\n",
            "---> Cliente 5 llego a peluqueria en minuto 81.70\n",
            "**** Cliente 5 pasa con peluquero en minuto 81.70 habiendo esperado 0.00\n",
            "---> Cliente 6 llego a peluqueria en minuto 97.17\n",
            "---> Cliente 7 llego a peluqueria en minuto 97.32\n",
            " \\o/ Corte listo a Cliente 4 en 29.89 minutos\n",
            "<--- Cliente 4 deja peluqueria en minuto 102.72\n",
            "**** Cliente 6 pasa con peluquero en minuto 102.72 habiendo esperado 5.55\n",
            " \\o/ Corte listo a Cliente 5 en 29.93 minutos\n",
            "<--- Cliente 5 deja peluqueria en minuto 111.64\n",
            "**** Cliente 7 pasa con peluquero en minuto 111.64 habiendo esperado 14.32\n",
            " \\o/ Corte listo a Cliente 6 en 20.73 minutos\n",
            "<--- Cliente 6 deja peluqueria en minuto 123.44\n",
            "---> Cliente 8 llego a peluqueria en minuto 125.64\n",
            "**** Cliente 8 pasa con peluquero en minuto 125.64 habiendo esperado 0.00\n",
            "---> Cliente 9 llego a peluqueria en minuto 129.08\n",
            "---> Cliente 10 llego a peluqueria en minuto 130.80\n",
            "---> Cliente 11 llego a peluqueria en minuto 131.37\n",
            " \\o/ Corte listo a Cliente 7 en 21.60 minutos\n",
            "<--- Cliente 7 deja peluqueria en minuto 133.24\n",
            "**** Cliente 9 pasa con peluquero en minuto 133.24 habiendo esperado 4.16\n",
            "---> Cliente 12 llego a peluqueria en minuto 139.85\n",
            " \\o/ Corte listo a Cliente 8 en 26.00 minutos\n",
            "<--- Cliente 8 deja peluqueria en minuto 151.63\n",
            "**** Cliente 10 pasa con peluquero en minuto 151.63 habiendo esperado 20.83\n",
            " \\o/ Corte listo a Cliente 9 en 25.35 minutos\n",
            "<--- Cliente 9 deja peluqueria en minuto 158.59\n",
            "**** Cliente 11 pasa con peluquero en minuto 158.59 habiendo esperado 27.22\n",
            " \\o/ Corte listo a Cliente 10 en 20.24 minutos\n",
            "<--- Cliente 10 deja peluqueria en minuto 171.87\n",
            "**** Cliente 12 pasa con peluquero en minuto 171.87 habiendo esperado 32.02\n",
            " \\o/ Corte listo a Cliente 11 en 28.05 minutos\n",
            "<--- Cliente 11 deja peluqueria en minuto 186.64\n",
            "---> Cliente 13 llego a peluqueria en minuto 193.72\n",
            "**** Cliente 13 pasa con peluquero en minuto 193.72 habiendo esperado 0.00\n",
            " \\o/ Corte listo a Cliente 12 en 26.72 minutos\n",
            "<--- Cliente 12 deja peluqueria en minuto 198.59\n",
            "---> Cliente 14 llego a peluqueria en minuto 199.13\n",
            "**** Cliente 14 pasa con peluquero en minuto 199.13 habiendo esperado 0.00\n",
            "---> Cliente 15 llego a peluqueria en minuto 207.02\n",
            "---> Cliente 16 llego a peluqueria en minuto 209.24\n",
            " \\o/ Corte listo a Cliente 13 en 25.66 minutos\n",
            "<--- Cliente 13 deja peluqueria en minuto 219.38\n",
            "**** Cliente 15 pasa con peluquero en minuto 219.38 habiendo esperado 12.35\n",
            " \\o/ Corte listo a Cliente 14 en 26.39 minutos\n",
            "<--- Cliente 14 deja peluqueria en minuto 225.52\n",
            "**** Cliente 16 pasa con peluquero en minuto 225.52 habiendo esperado 16.28\n",
            " \\o/ Corte listo a Cliente 15 en 24.94 minutos\n",
            "<--- Cliente 15 deja peluqueria en minuto 244.32\n",
            " \\o/ Corte listo a Cliente 16 en 23.09 minutos\n",
            "<--- Cliente 16 deja peluqueria en minuto 248.61\n",
            "---> Cliente 17 llego a peluqueria en minuto 253.07\n",
            "**** Cliente 17 pasa con peluquero en minuto 253.07 habiendo esperado 0.00\n",
            "---> Cliente 18 llego a peluqueria en minuto 256.81\n",
            "**** Cliente 18 pasa con peluquero en minuto 256.81 habiendo esperado 0.00\n",
            " \\o/ Corte listo a Cliente 18 en 20.80 minutos\n",
            "<--- Cliente 18 deja peluqueria en minuto 277.61\n",
            " \\o/ Corte listo a Cliente 17 en 28.77 minutos\n",
            "<--- Cliente 17 deja peluqueria en minuto 281.84\n",
            "---> Cliente 19 llego a peluqueria en minuto 284.37\n",
            "**** Cliente 19 pasa con peluquero en minuto 284.37 habiendo esperado 0.00\n",
            " \\o/ Corte listo a Cliente 19 en 23.15 minutos\n",
            "<--- Cliente 19 deja peluqueria en minuto 307.52\n",
            "---> Cliente 20 llego a peluqueria en minuto 312.65\n",
            "**** Cliente 20 pasa con peluquero en minuto 312.65 habiendo esperado 0.00\n",
            "---> Cliente 21 llego a peluqueria en minuto 317.89\n",
            "**** Cliente 21 pasa con peluquero en minuto 317.89 habiendo esperado 0.00\n",
            "---> Cliente 22 llego a peluqueria en minuto 323.64\n",
            "---> Cliente 23 llego a peluqueria en minuto 336.58\n",
            " \\o/ Corte listo a Cliente 20 en 24.10 minutos\n",
            "<--- Cliente 20 deja peluqueria en minuto 336.75\n",
            "**** Cliente 22 pasa con peluquero en minuto 336.75 habiendo esperado 13.10\n",
            " \\o/ Corte listo a Cliente 21 en 23.01 minutos\n",
            "<--- Cliente 21 deja peluqueria en minuto 340.90\n",
            "**** Cliente 23 pasa con peluquero en minuto 340.90 habiendo esperado 4.32\n",
            " \\o/ Corte listo a Cliente 22 en 26.45 minutos\n",
            "<--- Cliente 22 deja peluqueria en minuto 363.20\n",
            " \\o/ Corte listo a Cliente 23 en 25.13 minutos\n",
            "<--- Cliente 23 deja peluqueria en minuto 366.03\n",
            "---> Cliente 24 llego a peluqueria en minuto 370.18\n",
            "**** Cliente 24 pasa con peluquero en minuto 370.18 habiendo esperado 0.00\n",
            "---> Cliente 25 llego a peluqueria en minuto 373.13\n",
            "**** Cliente 25 pasa con peluquero en minuto 373.13 habiendo esperado 0.00\n",
            "---> Cliente 26 llego a peluqueria en minuto 386.21\n",
            "---> Cliente 27 llego a peluqueria en minuto 387.51\n",
            "---> Cliente 28 llego a peluqueria en minuto 388.64\n",
            " \\o/ Corte listo a Cliente 25 en 20.68 minutos\n",
            "<--- Cliente 25 deja peluqueria en minuto 393.82\n",
            "**** Cliente 26 pasa con peluquero en minuto 393.82 habiendo esperado 7.60\n",
            " \\o/ Corte listo a Cliente 24 en 29.48 minutos\n",
            "<--- Cliente 24 deja peluqueria en minuto 399.66\n",
            "**** Cliente 27 pasa con peluquero en minuto 399.66 habiendo esperado 12.16\n",
            "---> Cliente 29 llego a peluqueria en minuto 403.56\n",
            " \\o/ Corte listo a Cliente 26 en 24.86 minutos\n",
            "<--- Cliente 26 deja peluqueria en minuto 418.67\n",
            "**** Cliente 28 pasa con peluquero en minuto 418.67 habiendo esperado 30.03\n",
            " \\o/ Corte listo a Cliente 27 en 29.33 minutos\n",
            "<--- Cliente 27 deja peluqueria en minuto 428.99\n",
            "**** Cliente 29 pasa con peluquero en minuto 428.99 habiendo esperado 25.43\n",
            "---> Cliente 30 llego a peluqueria en minuto 431.00\n",
            " \\o/ Corte listo a Cliente 28 en 22.56 minutos\n",
            "<--- Cliente 28 deja peluqueria en minuto 441.23\n",
            "**** Cliente 30 pasa con peluquero en minuto 441.23 habiendo esperado 10.23\n",
            " \\o/ Corte listo a Cliente 29 en 26.95 minutos\n",
            "<--- Cliente 29 deja peluqueria en minuto 455.94\n",
            " \\o/ Corte listo a Cliente 30 en 26.75 minutos\n",
            "<--- Cliente 30 deja peluqueria en minuto 467.98\n"
          ],
          "name": "stdout"
        }
      ]
    },
    {
      "cell_type": "code",
      "metadata": {
        "id": "Yrwf7Rki7AU_",
        "colab_type": "code",
        "colab": {
          "base_uri": "https://localhost:8080/",
          "height": 201
        },
        "outputId": "fffaa5bf-c8d8-48a9-b9ac-610617d64e57"
      },
      "source": [
        "#Calculo de indicadores\n",
        "print (\"\\n---------------------------------------------------------------------\")\n",
        "print (\"\\nIndicadores obtenidos: \")\n",
        " \n",
        "lpc = te / fin\n",
        "print (\"\\nLongitud promedio de la cola: %.2f\" % lpc)\n",
        "tep = te / TOT_CLIENTES\n",
        "print (\"Tiempo de espera promedio = %.2f\" % tep)\n",
        "upi = (dt / fin) / NUM_PELUQUEROS\n",
        "print (\"Uso promedio de la instalacion = %.2f\" % upi)\n",
        "print (\"\\n---------------------------------------------------------------------\")"
      ],
      "execution_count": 15,
      "outputs": [
        {
          "output_type": "stream",
          "text": [
            "\n",
            "---------------------------------------------------------------------\n",
            "\n",
            "Indicadores obtenidos: \n",
            "\n",
            "Longitud promedio de la cola: 0.50\n",
            "Tiempo de espera promedio = 7.85\n",
            "Uso promedio de la instalacion = 0.80\n",
            "\n",
            "---------------------------------------------------------------------\n"
          ],
          "name": "stdout"
        }
      ]
    },
    {
      "cell_type": "code",
      "metadata": {
        "id": "RubqqaF47Mgf",
        "colab_type": "code",
        "colab": {}
      },
      "source": [
        ""
      ],
      "execution_count": 0,
      "outputs": []
    },
    {
      "cell_type": "markdown",
      "metadata": {
        "id": "FpEeedj88GFb",
        "colab_type": "text"
      },
      "source": [
        "##Conclusión\n",
        "\n",
        "La simulación en Python usando Simpy es una valiosa herramienta para obtener resultados en forma más sencilla y poder optimizar los procesos."
      ]
    },
    {
      "cell_type": "code",
      "metadata": {
        "id": "dLGMw9K28cRG",
        "colab_type": "code",
        "colab": {}
      },
      "source": [
        ""
      ],
      "execution_count": 0,
      "outputs": []
    }
  ]
}