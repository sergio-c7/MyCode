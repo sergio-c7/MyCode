{
  "nbformat": 4,
  "nbformat_minor": 0,
  "metadata": {
    "colab": {
      "name": "ModeloMIP.ipynb",
      "provenance": [],
      "collapsed_sections": []
    },
    "kernelspec": {
      "name": "python3",
      "display_name": "Python 3"
    }
  },
  "cells": [
    {
      "cell_type": "markdown",
      "metadata": {
        "id": "MYS30ZULu7z7",
        "colab_type": "text"
      },
      "source": [
        "## Formulación del Problema\n",
        "\n",
        "\n",
        "La fábrica de textiles AMERICATEX ha recibido un pedido de 4.000 rollos de paño.\n",
        "\n",
        "El pedido especifica que cada rollo de 1.000 metros de paño debe tener un contenido de por lo menos 45 kilogramos de lana y 30 kilogramos de poliéster.\n",
        "\n",
        "El producto puede ser elaborado con dos tipos de materiales fibra L y fibra M cuyo contenido de lana y poliéster es el siguiente:\n",
        "\n",
        "![datos](https://www.solocontabilidad.com/sites/default/files/imagenes_i/201806/utilidad-programacion-lineal-objt-minimizar-01-270618.gif)\n",
        "\n",
        "El costo por cada kilogramo de materiales asciende a:\n",
        "\n",
        "![costo](https://www.solocontabilidad.com/sites/default/files/imagenes_i/201806/utilidad-programacion-lineal-objt-minimizar-02-270618.gif)\n",
        "\n",
        "La empresa necesita conocer que cantidad de material L y M deben emplearse para que el costo sea el menor.\n"
      ]
    },
    {
      "cell_type": "code",
      "metadata": {
        "id": "PTkempGVtEtx",
        "colab_type": "code",
        "colab": {
          "base_uri": "https://localhost:8080/",
          "height": 148
        },
        "outputId": "18a4849a-d586-4eef-dfb8-024403cd7ad5"
      },
      "source": [
        "!pip install pulp"
      ],
      "execution_count": 1,
      "outputs": [
        {
          "output_type": "stream",
          "text": [
            "Collecting pulp\n",
            "\u001b[?25l  Downloading https://files.pythonhosted.org/packages/fb/34/ff5915ff6bae91cfb7c4cc22c3c369a6aea0b2127045dd5f308a91c260ac/PuLP-2.0-py3-none-any.whl (39.2MB)\n",
            "\u001b[K     |████████████████████████████████| 39.2MB 63kB/s \n",
            "\u001b[?25hRequirement already satisfied: pyparsing>=2.0.1 in /usr/local/lib/python3.6/dist-packages (from pulp) (2.4.5)\n",
            "Installing collected packages: pulp\n",
            "Successfully installed pulp-2.0\n"
          ],
          "name": "stdout"
        }
      ]
    },
    {
      "cell_type": "code",
      "metadata": {
        "id": "vNK7Iqk8u6es",
        "colab_type": "code",
        "colab": {}
      },
      "source": [
        ""
      ],
      "execution_count": 0,
      "outputs": []
    },
    {
      "cell_type": "code",
      "metadata": {
        "id": "xif3QQACtH8j",
        "colab_type": "code",
        "colab": {}
      },
      "source": [
        "# importando la libreria pulp  \n",
        "import pulp as p "
      ],
      "execution_count": 0,
      "outputs": []
    },
    {
      "cell_type": "code",
      "metadata": {
        "id": "RHOGMVoMtQla",
        "colab_type": "code",
        "colab": {}
      },
      "source": [
        "# Crea el problema de Optimizacion lineal \n",
        "Lp_prob = p.LpProblem('Problem', p.LpMinimize)"
      ],
      "execution_count": 0,
      "outputs": []
    },
    {
      "cell_type": "code",
      "metadata": {
        "id": "Vwzx_A6Ttflq",
        "colab_type": "code",
        "colab": {}
      },
      "source": [
        "# Crea las Variables  \n",
        "x = p.LpVariable(\"x\", lowBound = 0)   # Crea la variable x >= 0 \n",
        "y = p.LpVariable(\"y\", lowBound = 0)   # Crea la variable y >= 0 "
      ],
      "execution_count": 0,
      "outputs": []
    },
    {
      "cell_type": "code",
      "metadata": {
        "id": "tLSpA5x6tokC",
        "colab_type": "code",
        "colab": {}
      },
      "source": [
        "#  Funcion Objetivo\n",
        "Lp_prob += 8 * x + 12 * y "
      ],
      "execution_count": 0,
      "outputs": []
    },
    {
      "cell_type": "code",
      "metadata": {
        "id": "pX31k1Xvtwd5",
        "colab_type": "code",
        "colab": {}
      },
      "source": [
        "# Restricciones \n",
        "Lp_prob += 0.60 * x + 0.30 * y >= 45\n",
        "Lp_prob += 0.10 * x + 0.50 * y >= 30\n"
      ],
      "execution_count": 0,
      "outputs": []
    },
    {
      "cell_type": "code",
      "metadata": {
        "id": "TQuSJCUbt2wS",
        "colab_type": "code",
        "colab": {
          "base_uri": "https://localhost:8080/",
          "height": 238
        },
        "outputId": "fe7c2b4c-e626-49a9-df4e-5936e63dcc27"
      },
      "source": [
        "# Visualiza el problema\n",
        "print(Lp_prob) "
      ],
      "execution_count": 15,
      "outputs": [
        {
          "output_type": "stream",
          "text": [
            "Problem:\n",
            "MINIMIZE\n",
            "8*x + 12*y + 0\n",
            "SUBJECT TO\n",
            "_C1: 0.6 x + 0.3 y >= 45\n",
            "\n",
            "_C2: 0.1 x + 0.5 y >= 30\n",
            "\n",
            "VARIABLES\n",
            "x Continuous\n",
            "y Continuous\n",
            "\n"
          ],
          "name": "stdout"
        }
      ]
    },
    {
      "cell_type": "code",
      "metadata": {
        "id": "oeHMcLsht96p",
        "colab_type": "code",
        "colab": {
          "base_uri": "https://localhost:8080/",
          "height": 35
        },
        "outputId": "c03bd4e0-9319-4217-f11e-d56e402f99cc"
      },
      "source": [
        "status = Lp_prob.solve()   # Resolver \n",
        "print(p.LpStatus[status])   # el estado de la solucion  "
      ],
      "execution_count": 16,
      "outputs": [
        {
          "output_type": "stream",
          "text": [
            "Optimal\n"
          ],
          "name": "stdout"
        }
      ]
    },
    {
      "cell_type": "code",
      "metadata": {
        "id": "MHJMziVZuMdK",
        "colab_type": "code",
        "colab": {
          "base_uri": "https://localhost:8080/",
          "height": 35
        },
        "outputId": "0b80db01-f93c-431f-ef71-dc74e10a5091"
      },
      "source": [
        "# Visualiza la solucion final\n",
        "print(p.value(x), p.value(y), p.value(Lp_prob.objective))   "
      ],
      "execution_count": 17,
      "outputs": [
        {
          "output_type": "stream",
          "text": [
            "50.0 50.0 1000.0\n"
          ],
          "name": "stdout"
        }
      ]
    },
    {
      "cell_type": "code",
      "metadata": {
        "id": "PcA8gyPouWOB",
        "colab_type": "code",
        "colab": {}
      },
      "source": [
        ""
      ],
      "execution_count": 0,
      "outputs": []
    },
    {
      "cell_type": "markdown",
      "metadata": {
        "id": "PtASLXzu23dh",
        "colab_type": "text"
      },
      "source": [
        "## Conclusion\n",
        "los resultados son los siguientes:\n",
        "\n",
        "P1 = x1 = 50 kilogramos de fibra “L”\n",
        "\n",
        "P2 = x2 = 50 kilogramos de fibra “M”\n",
        "\n",
        "Z = Costo = $ 1.000\n"
      ]
    },
    {
      "cell_type": "code",
      "metadata": {
        "id": "5QBsgzaa2-ZI",
        "colab_type": "code",
        "colab": {}
      },
      "source": [
        ""
      ],
      "execution_count": 0,
      "outputs": []
    },
    {
      "cell_type": "code",
      "metadata": {
        "id": "sGIBmn1-3KfL",
        "colab_type": "code",
        "colab": {}
      },
      "source": [
        ""
      ],
      "execution_count": 0,
      "outputs": []
    },
    {
      "cell_type": "code",
      "metadata": {
        "id": "lh0W0cp23K8I",
        "colab_type": "code",
        "colab": {}
      },
      "source": [
        ""
      ],
      "execution_count": 0,
      "outputs": []
    }
  ]
}